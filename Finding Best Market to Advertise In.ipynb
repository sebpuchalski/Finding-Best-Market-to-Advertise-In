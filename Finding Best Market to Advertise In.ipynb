{
 "cells": [
  {
   "cell_type": "markdown",
   "metadata": {},
   "source": [
    "# Finding best markets to advertise in"
   ]
  },
  {
   "cell_type": "markdown",
   "metadata": {},
   "source": [
    "In this project I assume to be working for an an e-learning company that offers courses on programming. Most of the courses are on web and mobile development, but the company also cover many other domains, like data science, game development, etc. I want to promote the product and would like to invest some money in advertisement. The goal in is to find out the two best markets to advertise the product in."
   ]
  },
  {
   "cell_type": "markdown",
   "metadata": {},
   "source": [
    "Good candidate for analysis is the data from freeCodeCamp's 2017 New Coder Survey. freeCodeCamp is a free e-learning platform that offers courses on web development. Because they run a popular Medium publication (over 400,000 followers), their survey attracted new coders with varying interests (not only web development), which is ideal for the purpose of the analysis."
   ]
  },
  {
   "cell_type": "code",
   "execution_count": 1,
   "metadata": {
    "collapsed": false
   },
   "outputs": [
    {
     "name": "stderr",
     "output_type": "stream",
     "text": [
      "/dataquest/system/env/python3/lib/python3.4/site-packages/IPython/core/interactiveshell.py:2723: DtypeWarning: Columns (17,62) have mixed types. Specify dtype option on import or set low_memory=False.\n",
      "  interactivity=interactivity, compiler=compiler, result=result)\n"
     ]
    },
    {
     "data": {
      "text/plain": [
       "(18175, 136)"
      ]
     },
     "execution_count": 1,
     "metadata": {},
     "output_type": "execute_result"
    }
   ],
   "source": [
    "import pandas as pd\n",
    "import numpy as np\n",
    "df = pd.read_csv(\"2017-fCC-New-Coders-Survey-Data.csv\")\n",
    "df.shape"
   ]
  },
  {
   "cell_type": "code",
   "execution_count": 2,
   "metadata": {
    "collapsed": false
   },
   "outputs": [
    {
     "data": {
      "text/html": [
       "<div>\n",
       "<style scoped>\n",
       "    .dataframe tbody tr th:only-of-type {\n",
       "        vertical-align: middle;\n",
       "    }\n",
       "\n",
       "    .dataframe tbody tr th {\n",
       "        vertical-align: top;\n",
       "    }\n",
       "\n",
       "    .dataframe thead th {\n",
       "        text-align: right;\n",
       "    }\n",
       "</style>\n",
       "<table border=\"1\" class=\"dataframe\">\n",
       "  <thead>\n",
       "    <tr style=\"text-align: right;\">\n",
       "      <th></th>\n",
       "      <th>Age</th>\n",
       "      <th>AttendedBootcamp</th>\n",
       "      <th>BootcampFinish</th>\n",
       "      <th>BootcampLoanYesNo</th>\n",
       "      <th>BootcampName</th>\n",
       "      <th>BootcampRecommend</th>\n",
       "      <th>ChildrenNumber</th>\n",
       "      <th>CityPopulation</th>\n",
       "      <th>CodeEventConferences</th>\n",
       "      <th>CodeEventDjangoGirls</th>\n",
       "      <th>...</th>\n",
       "      <th>YouTubeFCC</th>\n",
       "      <th>YouTubeFunFunFunction</th>\n",
       "      <th>YouTubeGoogleDev</th>\n",
       "      <th>YouTubeLearnCode</th>\n",
       "      <th>YouTubeLevelUpTuts</th>\n",
       "      <th>YouTubeMIT</th>\n",
       "      <th>YouTubeMozillaHacks</th>\n",
       "      <th>YouTubeOther</th>\n",
       "      <th>YouTubeSimplilearn</th>\n",
       "      <th>YouTubeTheNewBoston</th>\n",
       "    </tr>\n",
       "  </thead>\n",
       "  <tbody>\n",
       "    <tr>\n",
       "      <th>0</th>\n",
       "      <td>27.0</td>\n",
       "      <td>0.0</td>\n",
       "      <td>NaN</td>\n",
       "      <td>NaN</td>\n",
       "      <td>NaN</td>\n",
       "      <td>NaN</td>\n",
       "      <td>NaN</td>\n",
       "      <td>more than 1 million</td>\n",
       "      <td>NaN</td>\n",
       "      <td>NaN</td>\n",
       "      <td>...</td>\n",
       "      <td>NaN</td>\n",
       "      <td>NaN</td>\n",
       "      <td>NaN</td>\n",
       "      <td>NaN</td>\n",
       "      <td>NaN</td>\n",
       "      <td>NaN</td>\n",
       "      <td>NaN</td>\n",
       "      <td>NaN</td>\n",
       "      <td>NaN</td>\n",
       "      <td>NaN</td>\n",
       "    </tr>\n",
       "    <tr>\n",
       "      <th>1</th>\n",
       "      <td>34.0</td>\n",
       "      <td>0.0</td>\n",
       "      <td>NaN</td>\n",
       "      <td>NaN</td>\n",
       "      <td>NaN</td>\n",
       "      <td>NaN</td>\n",
       "      <td>NaN</td>\n",
       "      <td>less than 100,000</td>\n",
       "      <td>NaN</td>\n",
       "      <td>NaN</td>\n",
       "      <td>...</td>\n",
       "      <td>1.0</td>\n",
       "      <td>NaN</td>\n",
       "      <td>NaN</td>\n",
       "      <td>NaN</td>\n",
       "      <td>NaN</td>\n",
       "      <td>NaN</td>\n",
       "      <td>NaN</td>\n",
       "      <td>NaN</td>\n",
       "      <td>NaN</td>\n",
       "      <td>NaN</td>\n",
       "    </tr>\n",
       "    <tr>\n",
       "      <th>2</th>\n",
       "      <td>21.0</td>\n",
       "      <td>0.0</td>\n",
       "      <td>NaN</td>\n",
       "      <td>NaN</td>\n",
       "      <td>NaN</td>\n",
       "      <td>NaN</td>\n",
       "      <td>NaN</td>\n",
       "      <td>more than 1 million</td>\n",
       "      <td>NaN</td>\n",
       "      <td>NaN</td>\n",
       "      <td>...</td>\n",
       "      <td>NaN</td>\n",
       "      <td>NaN</td>\n",
       "      <td>NaN</td>\n",
       "      <td>1.0</td>\n",
       "      <td>1.0</td>\n",
       "      <td>NaN</td>\n",
       "      <td>NaN</td>\n",
       "      <td>NaN</td>\n",
       "      <td>NaN</td>\n",
       "      <td>NaN</td>\n",
       "    </tr>\n",
       "    <tr>\n",
       "      <th>3</th>\n",
       "      <td>26.0</td>\n",
       "      <td>0.0</td>\n",
       "      <td>NaN</td>\n",
       "      <td>NaN</td>\n",
       "      <td>NaN</td>\n",
       "      <td>NaN</td>\n",
       "      <td>NaN</td>\n",
       "      <td>between 100,000 and 1 million</td>\n",
       "      <td>NaN</td>\n",
       "      <td>NaN</td>\n",
       "      <td>...</td>\n",
       "      <td>1.0</td>\n",
       "      <td>1.0</td>\n",
       "      <td>NaN</td>\n",
       "      <td>NaN</td>\n",
       "      <td>1.0</td>\n",
       "      <td>NaN</td>\n",
       "      <td>NaN</td>\n",
       "      <td>NaN</td>\n",
       "      <td>NaN</td>\n",
       "      <td>NaN</td>\n",
       "    </tr>\n",
       "    <tr>\n",
       "      <th>4</th>\n",
       "      <td>20.0</td>\n",
       "      <td>0.0</td>\n",
       "      <td>NaN</td>\n",
       "      <td>NaN</td>\n",
       "      <td>NaN</td>\n",
       "      <td>NaN</td>\n",
       "      <td>NaN</td>\n",
       "      <td>between 100,000 and 1 million</td>\n",
       "      <td>NaN</td>\n",
       "      <td>NaN</td>\n",
       "      <td>...</td>\n",
       "      <td>NaN</td>\n",
       "      <td>NaN</td>\n",
       "      <td>NaN</td>\n",
       "      <td>NaN</td>\n",
       "      <td>NaN</td>\n",
       "      <td>NaN</td>\n",
       "      <td>NaN</td>\n",
       "      <td>NaN</td>\n",
       "      <td>NaN</td>\n",
       "      <td>NaN</td>\n",
       "    </tr>\n",
       "  </tbody>\n",
       "</table>\n",
       "<p>5 rows × 136 columns</p>\n",
       "</div>"
      ],
      "text/plain": [
       "    Age  AttendedBootcamp  BootcampFinish  BootcampLoanYesNo BootcampName  \\\n",
       "0  27.0               0.0             NaN                NaN          NaN   \n",
       "1  34.0               0.0             NaN                NaN          NaN   \n",
       "2  21.0               0.0             NaN                NaN          NaN   \n",
       "3  26.0               0.0             NaN                NaN          NaN   \n",
       "4  20.0               0.0             NaN                NaN          NaN   \n",
       "\n",
       "   BootcampRecommend  ChildrenNumber                 CityPopulation  \\\n",
       "0                NaN             NaN            more than 1 million   \n",
       "1                NaN             NaN              less than 100,000   \n",
       "2                NaN             NaN            more than 1 million   \n",
       "3                NaN             NaN  between 100,000 and 1 million   \n",
       "4                NaN             NaN  between 100,000 and 1 million   \n",
       "\n",
       "   CodeEventConferences  CodeEventDjangoGirls         ...           \\\n",
       "0                   NaN                   NaN         ...            \n",
       "1                   NaN                   NaN         ...            \n",
       "2                   NaN                   NaN         ...            \n",
       "3                   NaN                   NaN         ...            \n",
       "4                   NaN                   NaN         ...            \n",
       "\n",
       "   YouTubeFCC  YouTubeFunFunFunction  YouTubeGoogleDev  YouTubeLearnCode  \\\n",
       "0         NaN                    NaN               NaN               NaN   \n",
       "1         1.0                    NaN               NaN               NaN   \n",
       "2         NaN                    NaN               NaN               1.0   \n",
       "3         1.0                    1.0               NaN               NaN   \n",
       "4         NaN                    NaN               NaN               NaN   \n",
       "\n",
       "   YouTubeLevelUpTuts  YouTubeMIT  YouTubeMozillaHacks YouTubeOther  \\\n",
       "0                 NaN         NaN                  NaN          NaN   \n",
       "1                 NaN         NaN                  NaN          NaN   \n",
       "2                 1.0         NaN                  NaN          NaN   \n",
       "3                 1.0         NaN                  NaN          NaN   \n",
       "4                 NaN         NaN                  NaN          NaN   \n",
       "\n",
       "   YouTubeSimplilearn  YouTubeTheNewBoston  \n",
       "0                 NaN                  NaN  \n",
       "1                 NaN                  NaN  \n",
       "2                 NaN                  NaN  \n",
       "3                 NaN                  NaN  \n",
       "4                 NaN                  NaN  \n",
       "\n",
       "[5 rows x 136 columns]"
      ]
     },
     "execution_count": 2,
     "metadata": {},
     "output_type": "execute_result"
    }
   ],
   "source": [
    "df.head()"
   ]
  },
  {
   "cell_type": "code",
   "execution_count": 3,
   "metadata": {
    "collapsed": false
   },
   "outputs": [
    {
     "data": {
      "text/plain": [
       "Age                       float64\n",
       "AttendedBootcamp          float64\n",
       "BootcampFinish            float64\n",
       "BootcampLoanYesNo         float64\n",
       "BootcampName               object\n",
       "BootcampRecommend         float64\n",
       "ChildrenNumber            float64\n",
       "CityPopulation             object\n",
       "CodeEventConferences      float64\n",
       "CodeEventDjangoGirls      float64\n",
       "CodeEventFCC              float64\n",
       "CodeEventGameJam          float64\n",
       "CodeEventGirlDev          float64\n",
       "CodeEventHackathons       float64\n",
       "CodeEventMeetup           float64\n",
       "CodeEventNodeSchool       float64\n",
       "CodeEventNone             float64\n",
       "CodeEventOther             object\n",
       "CodeEventRailsBridge      float64\n",
       "CodeEventRailsGirls       float64\n",
       "CodeEventStartUpWknd      float64\n",
       "CodeEventWkdBootcamps     float64\n",
       "CodeEventWomenCode        float64\n",
       "CodeEventWorkshops        float64\n",
       "CommuteTime                object\n",
       "CountryCitizen             object\n",
       "CountryLive                object\n",
       "EmploymentField            object\n",
       "EmploymentFieldOther       object\n",
       "EmploymentStatus           object\n",
       "                           ...   \n",
       "ResourceMDN               float64\n",
       "ResourceOdinProj          float64\n",
       "ResourceOther              object\n",
       "ResourcePluralSight       float64\n",
       "ResourceSkillcrush        float64\n",
       "ResourceSO                float64\n",
       "ResourceTreehouse         float64\n",
       "ResourceUdacity           float64\n",
       "ResourceUdemy             float64\n",
       "ResourceW3S               float64\n",
       "SchoolDegree               object\n",
       "SchoolMajor                object\n",
       "StudentDebtOwe            float64\n",
       "YouTubeCodeCourse         float64\n",
       "YouTubeCodingTrain        float64\n",
       "YouTubeCodingTut360       float64\n",
       "YouTubeComputerphile      float64\n",
       "YouTubeDerekBanas         float64\n",
       "YouTubeDevTips            float64\n",
       "YouTubeEngineeredTruth    float64\n",
       "YouTubeFCC                float64\n",
       "YouTubeFunFunFunction     float64\n",
       "YouTubeGoogleDev          float64\n",
       "YouTubeLearnCode          float64\n",
       "YouTubeLevelUpTuts        float64\n",
       "YouTubeMIT                float64\n",
       "YouTubeMozillaHacks       float64\n",
       "YouTubeOther               object\n",
       "YouTubeSimplilearn        float64\n",
       "YouTubeTheNewBoston       float64\n",
       "Length: 136, dtype: object"
      ]
     },
     "execution_count": 3,
     "metadata": {},
     "output_type": "execute_result"
    }
   ],
   "source": [
    "df.dtypes"
   ]
  },
  {
   "cell_type": "markdown",
   "metadata": {},
   "source": [
    "Key questions:\n",
    "- Where are these new coders located.\n",
    "- What are the locations with the greatest number of new coders.\n",
    "- How much money new coders are willing to spend on learning."
   ]
  },
  {
   "cell_type": "code",
   "execution_count": 4,
   "metadata": {
    "collapsed": false
   },
   "outputs": [
    {
     "data": {
      "text/html": [
       "<div>\n",
       "<style scoped>\n",
       "    .dataframe tbody tr th:only-of-type {\n",
       "        vertical-align: middle;\n",
       "    }\n",
       "\n",
       "    .dataframe tbody tr th {\n",
       "        vertical-align: top;\n",
       "    }\n",
       "\n",
       "    .dataframe thead th {\n",
       "        text-align: right;\n",
       "    }\n",
       "</style>\n",
       "<table border=\"1\" class=\"dataframe\">\n",
       "  <thead>\n",
       "    <tr style=\"text-align: right;\">\n",
       "      <th></th>\n",
       "      <th>JobRoleInterest</th>\n",
       "    </tr>\n",
       "  </thead>\n",
       "  <tbody>\n",
       "    <tr>\n",
       "      <th>Full-Stack Web Developer</th>\n",
       "      <td>11.771</td>\n",
       "    </tr>\n",
       "    <tr>\n",
       "      <th>Front-End Web Developer</th>\n",
       "      <td>6.436</td>\n",
       "    </tr>\n",
       "    <tr>\n",
       "      <th>Data Scientist</th>\n",
       "      <td>2.174</td>\n",
       "    </tr>\n",
       "    <tr>\n",
       "      <th>Back-End Web Developer</th>\n",
       "      <td>2.031</td>\n",
       "    </tr>\n",
       "    <tr>\n",
       "      <th>Mobile Developer</th>\n",
       "      <td>1.673</td>\n",
       "    </tr>\n",
       "    <tr>\n",
       "      <th>Game Developer</th>\n",
       "      <td>1.630</td>\n",
       "    </tr>\n",
       "    <tr>\n",
       "      <th>Information Security</th>\n",
       "      <td>1.316</td>\n",
       "    </tr>\n",
       "    <tr>\n",
       "      <th>Full-Stack Web Developer,   Front-End Web Developer</th>\n",
       "      <td>0.915</td>\n",
       "    </tr>\n",
       "    <tr>\n",
       "      <th>Front-End Web Developer, Full-Stack Web Developer</th>\n",
       "      <td>0.801</td>\n",
       "    </tr>\n",
       "    <tr>\n",
       "      <th>Product Manager</th>\n",
       "      <td>0.787</td>\n",
       "    </tr>\n",
       "    <tr>\n",
       "      <th>Data Engineer</th>\n",
       "      <td>0.758</td>\n",
       "    </tr>\n",
       "    <tr>\n",
       "      <th>User Experience Designer</th>\n",
       "      <td>0.744</td>\n",
       "    </tr>\n",
       "    <tr>\n",
       "      <th>User Experience Designer,   Front-End Web Developer</th>\n",
       "      <td>0.615</td>\n",
       "    </tr>\n",
       "    <tr>\n",
       "      <th>Front-End Web Developer, Back-End Web Developer, Full-Stack Web Developer</th>\n",
       "      <td>0.558</td>\n",
       "    </tr>\n",
       "    <tr>\n",
       "      <th>DevOps / SysAdmin</th>\n",
       "      <td>0.515</td>\n",
       "    </tr>\n",
       "    <tr>\n",
       "      <th>Back-End Web Developer,   Front-End Web Developer, Full-Stack Web Developer</th>\n",
       "      <td>0.515</td>\n",
       "    </tr>\n",
       "    <tr>\n",
       "      <th>Back-End Web Developer, Full-Stack Web Developer,   Front-End Web Developer</th>\n",
       "      <td>0.515</td>\n",
       "    </tr>\n",
       "    <tr>\n",
       "      <th>Full-Stack Web Developer,   Front-End Web Developer, Back-End Web Developer</th>\n",
       "      <td>0.443</td>\n",
       "    </tr>\n",
       "    <tr>\n",
       "      <th>Front-End Web Developer, Full-Stack Web Developer, Back-End Web Developer</th>\n",
       "      <td>0.429</td>\n",
       "    </tr>\n",
       "    <tr>\n",
       "      <th>Front-End Web Developer,   User Experience Designer</th>\n",
       "      <td>0.415</td>\n",
       "    </tr>\n",
       "    <tr>\n",
       "      <th>Full-Stack Web Developer,   Mobile Developer</th>\n",
       "      <td>0.415</td>\n",
       "    </tr>\n",
       "    <tr>\n",
       "      <th>Back-End Web Developer, Full-Stack Web Developer</th>\n",
       "      <td>0.386</td>\n",
       "    </tr>\n",
       "    <tr>\n",
       "      <th>Full-Stack Web Developer, Back-End Web Developer</th>\n",
       "      <td>0.372</td>\n",
       "    </tr>\n",
       "    <tr>\n",
       "      <th>Back-End Web Developer,   Front-End Web Developer</th>\n",
       "      <td>0.286</td>\n",
       "    </tr>\n",
       "    <tr>\n",
       "      <th>Full-Stack Web Developer, Back-End Web Developer,   Front-End Web Developer</th>\n",
       "      <td>0.272</td>\n",
       "    </tr>\n",
       "    <tr>\n",
       "      <th>Data Engineer,   Data Scientist</th>\n",
       "      <td>0.272</td>\n",
       "    </tr>\n",
       "    <tr>\n",
       "      <th>Front-End Web Developer,   Mobile Developer</th>\n",
       "      <td>0.257</td>\n",
       "    </tr>\n",
       "    <tr>\n",
       "      <th>Full-Stack Web Developer,   Data Scientist</th>\n",
       "      <td>0.243</td>\n",
       "    </tr>\n",
       "    <tr>\n",
       "      <th>Data Scientist, Data Engineer</th>\n",
       "      <td>0.229</td>\n",
       "    </tr>\n",
       "    <tr>\n",
       "      <th>Mobile Developer, Game Developer</th>\n",
       "      <td>0.229</td>\n",
       "    </tr>\n",
       "    <tr>\n",
       "      <th>...</th>\n",
       "      <td>...</td>\n",
       "    </tr>\n",
       "    <tr>\n",
       "      <th>Mobile Developer,   User Experience Designer, Back-End Web Developer,   Front-End Web Developer, Full-Stack Web Developer</th>\n",
       "      <td>0.014</td>\n",
       "    </tr>\n",
       "    <tr>\n",
       "      <th>Product Manager, Back-End Web Developer,   Data Scientist,   User Experience Designer,   Front-End Web Developer, Full-Stack Web Developer, Data Engineer,   Mobile Developer</th>\n",
       "      <td>0.014</td>\n",
       "    </tr>\n",
       "    <tr>\n",
       "      <th>Product Manager, Full-Stack Web Developer,   User Experience Designer,   Mobile Developer,   Front-End Web Developer,   DevOps / SysAdmin, Back-End Web Developer</th>\n",
       "      <td>0.014</td>\n",
       "    </tr>\n",
       "    <tr>\n",
       "      <th>Front-End Web Developer,   Data Scientist, Data Engineer, Information Security, Full-Stack Web Developer,   Mobile Developer</th>\n",
       "      <td>0.014</td>\n",
       "    </tr>\n",
       "    <tr>\n",
       "      <th>AI</th>\n",
       "      <td>0.014</td>\n",
       "    </tr>\n",
       "    <tr>\n",
       "      <th>Not sure!</th>\n",
       "      <td>0.014</td>\n",
       "    </tr>\n",
       "    <tr>\n",
       "      <th>Mobile Developer,   Front-End Web Developer, Back-End Web Developer,   User Experience Designer, Full-Stack Web Developer</th>\n",
       "      <td>0.014</td>\n",
       "    </tr>\n",
       "    <tr>\n",
       "      <th>Front-End Web Developer,   Product Manager, Full-Stack Web Developer,   Mobile Developer</th>\n",
       "      <td>0.014</td>\n",
       "    </tr>\n",
       "    <tr>\n",
       "      <th>Mobile Developer, Full-Stack Web Developer,   Front-End Web Developer,   Data Scientist,   User Experience Designer, Data Engineer</th>\n",
       "      <td>0.014</td>\n",
       "    </tr>\n",
       "    <tr>\n",
       "      <th>Front-End Web Developer, Data Engineer, Full-Stack Web Developer, Back-End Web Developer,   Data Scientist</th>\n",
       "      <td>0.014</td>\n",
       "    </tr>\n",
       "    <tr>\n",
       "      <th>Information Security, Data Engineer,   Quality Assurance Engineer</th>\n",
       "      <td>0.014</td>\n",
       "    </tr>\n",
       "    <tr>\n",
       "      <th>Game Developer, Back-End Web Developer,   User Experience Designer</th>\n",
       "      <td>0.014</td>\n",
       "    </tr>\n",
       "    <tr>\n",
       "      <th>Game Developer, Data Engineer, Full-Stack Web Developer,   Data Scientist</th>\n",
       "      <td>0.014</td>\n",
       "    </tr>\n",
       "    <tr>\n",
       "      <th>Information Security,   Data Scientist,   Mobile Developer, Data Engineer</th>\n",
       "      <td>0.014</td>\n",
       "    </tr>\n",
       "    <tr>\n",
       "      <th>Back-End Web Developer, Information Security, Game Developer, Full-Stack Web Developer</th>\n",
       "      <td>0.014</td>\n",
       "    </tr>\n",
       "    <tr>\n",
       "      <th>Back-End Web Developer, Game Developer, Information Security, Full-Stack Web Developer, Artificial intelligence</th>\n",
       "      <td>0.014</td>\n",
       "    </tr>\n",
       "    <tr>\n",
       "      <th>Full-Stack Web Developer, Data Engineer, Game Developer,   DevOps / SysAdmin, Information Security,   Data Scientist</th>\n",
       "      <td>0.014</td>\n",
       "    </tr>\n",
       "    <tr>\n",
       "      <th>Mobile Developer, Game Developer, Back-End Web Developer, Full-Stack Web Developer,   Front-End Web Developer, Data Engineer</th>\n",
       "      <td>0.014</td>\n",
       "    </tr>\n",
       "    <tr>\n",
       "      <th>Front-End Web Developer,   DevOps / SysAdmin,   Data Scientist, Full-Stack Web Developer, Back-End Web Developer</th>\n",
       "      <td>0.014</td>\n",
       "    </tr>\n",
       "    <tr>\n",
       "      <th>Back-End Web Developer, Game Developer, Full-Stack Web Developer,   User Experience Designer,   Front-End Web Developer, Information Security, Data Engineer,   Mobile Developer</th>\n",
       "      <td>0.014</td>\n",
       "    </tr>\n",
       "    <tr>\n",
       "      <th>Full-Stack Web Developer,   Quality Assurance Engineer,   Data Scientist, Information Security, Data Engineer</th>\n",
       "      <td>0.014</td>\n",
       "    </tr>\n",
       "    <tr>\n",
       "      <th>Full-Stack Web Developer, Back-End Web Developer, Data Engineer,   Data Scientist</th>\n",
       "      <td>0.014</td>\n",
       "    </tr>\n",
       "    <tr>\n",
       "      <th>Front-End Web Developer, Full-Stack Web Developer,   User Experience Designer, Back-End Web Developer,   Product Manager</th>\n",
       "      <td>0.014</td>\n",
       "    </tr>\n",
       "    <tr>\n",
       "      <th>Information Developer</th>\n",
       "      <td>0.014</td>\n",
       "    </tr>\n",
       "    <tr>\n",
       "      <th>Front-End Web Developer,   Data Scientist, Back-End Web Developer, Data Engineer</th>\n",
       "      <td>0.014</td>\n",
       "    </tr>\n",
       "    <tr>\n",
       "      <th>Data Engineer, Game Developer,   Data Scientist,   Mobile Developer, Information Security</th>\n",
       "      <td>0.014</td>\n",
       "    </tr>\n",
       "    <tr>\n",
       "      <th>Quality Assurance Engineer,   Product Manager, Information Security,   DevOps / SysAdmin, Embedded Developer</th>\n",
       "      <td>0.014</td>\n",
       "    </tr>\n",
       "    <tr>\n",
       "      <th>Support Engineer or API Support</th>\n",
       "      <td>0.014</td>\n",
       "    </tr>\n",
       "    <tr>\n",
       "      <th>Game Developer, Full-Stack Web Developer,   Product Manager,   Mobile Developer,   User Experience Designer</th>\n",
       "      <td>0.014</td>\n",
       "    </tr>\n",
       "    <tr>\n",
       "      <th>Data Engineer, Back-End Web Developer,   Data Scientist, Information Security</th>\n",
       "      <td>0.014</td>\n",
       "    </tr>\n",
       "  </tbody>\n",
       "</table>\n",
       "<p>3213 rows × 1 columns</p>\n",
       "</div>"
      ],
      "text/plain": [
       "                                                    JobRoleInterest\n",
       "Full-Stack Web Developer                                     11.771\n",
       "  Front-End Web Developer                                     6.436\n",
       "  Data Scientist                                              2.174\n",
       "Back-End Web Developer                                        2.031\n",
       "  Mobile Developer                                            1.673\n",
       "Game Developer                                                1.630\n",
       "Information Security                                          1.316\n",
       "Full-Stack Web Developer,   Front-End Web Devel...            0.915\n",
       "  Front-End Web Developer, Full-Stack Web Devel...            0.801\n",
       "  Product Manager                                             0.787\n",
       "Data Engineer                                                 0.758\n",
       "  User Experience Designer                                    0.744\n",
       "  User Experience Designer,   Front-End Web Dev...            0.615\n",
       "  Front-End Web Developer, Back-End Web Develop...            0.558\n",
       "  DevOps / SysAdmin                                           0.515\n",
       "Back-End Web Developer,   Front-End Web Develop...            0.515\n",
       "Back-End Web Developer, Full-Stack Web Develope...            0.515\n",
       "Full-Stack Web Developer,   Front-End Web Devel...            0.443\n",
       "  Front-End Web Developer, Full-Stack Web Devel...            0.429\n",
       "  Front-End Web Developer,   User Experience De...            0.415\n",
       "Full-Stack Web Developer,   Mobile Developer                  0.415\n",
       "Back-End Web Developer, Full-Stack Web Developer              0.386\n",
       "Full-Stack Web Developer, Back-End Web Developer              0.372\n",
       "Back-End Web Developer,   Front-End Web Developer             0.286\n",
       "Full-Stack Web Developer, Back-End Web Develope...            0.272\n",
       "Data Engineer,   Data Scientist                               0.272\n",
       "  Front-End Web Developer,   Mobile Developer                 0.257\n",
       "Full-Stack Web Developer,   Data Scientist                    0.243\n",
       "  Data Scientist, Data Engineer                               0.229\n",
       "  Mobile Developer, Game Developer                            0.229\n",
       "...                                                             ...\n",
       "  Mobile Developer,   User Experience Designer,...            0.014\n",
       "  Product Manager, Back-End Web Developer,   Da...            0.014\n",
       "  Product Manager, Full-Stack Web Developer,   ...            0.014\n",
       "  Front-End Web Developer,   Data Scientist, Da...            0.014\n",
       "AI                                                            0.014\n",
       "Not sure!                                                     0.014\n",
       "  Mobile Developer,   Front-End Web Developer, ...            0.014\n",
       "  Front-End Web Developer,   Product Manager, F...            0.014\n",
       "  Mobile Developer, Full-Stack Web Developer,  ...            0.014\n",
       "  Front-End Web Developer, Data Engineer, Full-...            0.014\n",
       "Information Security, Data Engineer,   Quality ...            0.014\n",
       "Game Developer, Back-End Web Developer,   User ...            0.014\n",
       "Game Developer, Data Engineer, Full-Stack Web D...            0.014\n",
       "Information Security,   Data Scientist,   Mobil...            0.014\n",
       "Back-End Web Developer, Information Security, G...            0.014\n",
       "Back-End Web Developer, Game Developer, Informa...            0.014\n",
       "Full-Stack Web Developer, Data Engineer, Game D...            0.014\n",
       "  Mobile Developer, Game Developer, Back-End We...            0.014\n",
       "  Front-End Web Developer,   DevOps / SysAdmin,...            0.014\n",
       "Back-End Web Developer, Game Developer, Full-St...            0.014\n",
       "Full-Stack Web Developer,   Quality Assurance E...            0.014\n",
       "Full-Stack Web Developer, Back-End Web Develope...            0.014\n",
       "  Front-End Web Developer, Full-Stack Web Devel...            0.014\n",
       "Information Developer                                         0.014\n",
       "  Front-End Web Developer,   Data Scientist, Ba...            0.014\n",
       "Data Engineer, Game Developer,   Data Scientist...            0.014\n",
       "  Quality Assurance Engineer,   Product Manager...            0.014\n",
       "Support Engineer or API Support                               0.014\n",
       "Game Developer, Full-Stack Web Developer,   Pro...            0.014\n",
       "Data Engineer, Back-End Web Developer,   Data S...            0.014\n",
       "\n",
       "[3213 rows x 1 columns]"
      ]
     },
     "execution_count": 4,
     "metadata": {},
     "output_type": "execute_result"
    }
   ],
   "source": [
    "import matplotlib.pyplot as plt\n",
    "interests=pd.DataFrame(round(df.JobRoleInterest.value_counts()/\n",
    "                             df.JobRoleInterest.notnull().sum()*100,3))\n",
    "interests"
   ]
  },
  {
   "cell_type": "code",
   "execution_count": 5,
   "metadata": {
    "collapsed": false
   },
   "outputs": [
    {
     "data": {
      "image/png": "[encoded data removed]",
      "text/plain": [
       "<matplotlib.figure.Figure at 0x7fcdf0dba2e8>"
      ]
     },
     "metadata": {},
     "output_type": "display_data"
    }
   ],
   "source": [
    "#plot top choices\n",
    "\n",
    "x=interests.index.tolist()[:10]\n",
    "x_pos = [i for i, _ in enumerate(x)]\n",
    "\n",
    "%matplotlib inline\n",
    "plt.barh(x_pos, interests.iloc[:10,0])\n",
    "plt.yticks(x_pos, x)\n",
    "plt.show()"
   ]
  },
  {
   "cell_type": "markdown",
   "metadata": {},
   "source": [
    "The top learning catergories are web developers and data scientist."
   ]
  },
  {
   "cell_type": "markdown",
   "metadata": {},
   "source": [
    "Now that I found out that the sample has the right categories of people for the purpose, I can begin analyzing it. Let's start with finding out where these new coders are located, and what are the densities (how many coderes there are) for each location.\n",
    "\n",
    "The data set provides information about the location of each participant at a country level. The CountryCitizen variable describes the country of origin for each participant, and the CountryLive variable describes what country each participants lives in (which may be different than the origin country).\n",
    "\n",
    "For the analysis, I'll work with the CountryLive variable because I am interested where people actually live at the moment when running the ads.  \n",
    "\n",
    "Because the data set provides information at a country level, I can think of each country as an individual market. This means I can frame the goal as finding the two best countries to advertise in.\n",
    "\n",
    "One indicator of a good market is the number of potential customers — the more potential customers in a market, the better. If the ads manage to convince 10% of the 5000 potential customers in market A to buy our product, then this is better than convincing 100% of the 30 potential customers in market B"
   ]
  },
  {
   "cell_type": "code",
   "execution_count": 6,
   "metadata": {
    "collapsed": false
   },
   "outputs": [
    {
     "data": {
      "text/plain": [
       "6992"
      ]
     },
     "execution_count": 6,
     "metadata": {},
     "output_type": "execute_result"
    }
   ],
   "source": [
    "df=df[df.JobRoleInterest.notnull()].copy()\n",
    "len(df)"
   ]
  },
  {
   "cell_type": "code",
   "execution_count": 7,
   "metadata": {
    "collapsed": false
   },
   "outputs": [
    {
     "data": {
      "text/html": [
       "<div>\n",
       "<style scoped>\n",
       "    .dataframe tbody tr th:only-of-type {\n",
       "        vertical-align: middle;\n",
       "    }\n",
       "\n",
       "    .dataframe tbody tr th {\n",
       "        vertical-align: top;\n",
       "    }\n",
       "\n",
       "    .dataframe thead th {\n",
       "        text-align: right;\n",
       "    }\n",
       "</style>\n",
       "<table border=\"1\" class=\"dataframe\">\n",
       "  <thead>\n",
       "    <tr style=\"text-align: right;\">\n",
       "      <th></th>\n",
       "      <th>CountryLive</th>\n",
       "    </tr>\n",
       "  </thead>\n",
       "  <tbody>\n",
       "    <tr>\n",
       "      <th>United States of America</th>\n",
       "      <td>45.700</td>\n",
       "    </tr>\n",
       "    <tr>\n",
       "      <th>India</th>\n",
       "      <td>7.722</td>\n",
       "    </tr>\n",
       "    <tr>\n",
       "      <th>United Kingdom</th>\n",
       "      <td>4.607</td>\n",
       "    </tr>\n",
       "    <tr>\n",
       "      <th>Canada</th>\n",
       "      <td>3.802</td>\n",
       "    </tr>\n",
       "    <tr>\n",
       "      <th>Poland</th>\n",
       "      <td>1.916</td>\n",
       "    </tr>\n",
       "    <tr>\n",
       "      <th>Brazil</th>\n",
       "      <td>1.887</td>\n",
       "    </tr>\n",
       "    <tr>\n",
       "      <th>Germany</th>\n",
       "      <td>1.828</td>\n",
       "    </tr>\n",
       "    <tr>\n",
       "      <th>Australia</th>\n",
       "      <td>1.638</td>\n",
       "    </tr>\n",
       "    <tr>\n",
       "      <th>Russia</th>\n",
       "      <td>1.492</td>\n",
       "    </tr>\n",
       "    <tr>\n",
       "      <th>Ukraine</th>\n",
       "      <td>1.302</td>\n",
       "    </tr>\n",
       "  </tbody>\n",
       "</table>\n",
       "</div>"
      ],
      "text/plain": [
       "                          CountryLive\n",
       "United States of America       45.700\n",
       "India                           7.722\n",
       "United Kingdom                  4.607\n",
       "Canada                          3.802\n",
       "Poland                          1.916\n",
       "Brazil                          1.887\n",
       "Germany                         1.828\n",
       "Australia                       1.638\n",
       "Russia                          1.492\n",
       "Ukraine                         1.302"
      ]
     },
     "execution_count": 7,
     "metadata": {},
     "output_type": "execute_result"
    }
   ],
   "source": [
    "country=pd.DataFrame(round(df.CountryLive.value_counts()/\n",
    "                             df.CountryLive.notnull().sum()*100,3))\n",
    "country.head(10)"
   ]
  },
  {
   "cell_type": "markdown",
   "metadata": {},
   "source": [
    "Based on the results the two top markets to advertise in are likely USA and India based on potential market size as derived from the frequency table. Yet, I need to understand how much money potential customers would spend on the product. The company's product sells for $59/month. Let's see how much money the users would be willing to spend:"
   ]
  },
  {
   "cell_type": "code",
   "execution_count": 8,
   "metadata": {
    "collapsed": false
   },
   "outputs": [],
   "source": [
    "df[\"spend_per_month\"]=df.MoneyForLearning/df.MonthsProgramming.replace(0,1)\n",
    "df=df[df.spend_per_month.notnull()].copy()\n",
    "df=df[df.spend_per_month!=0].copy()"
   ]
  },
  {
   "cell_type": "code",
   "execution_count": 9,
   "metadata": {
    "collapsed": false
   },
   "outputs": [],
   "source": [
    "grouped = df.groupby(\"CountryLive\").mean()"
   ]
  },
  {
   "cell_type": "code",
   "execution_count": 10,
   "metadata": {
    "collapsed": false
   },
   "outputs": [],
   "source": [
    "spend = grouped.spend_per_month.reset_index()"
   ]
  },
  {
   "cell_type": "code",
   "execution_count": 11,
   "metadata": {
    "collapsed": false
   },
   "outputs": [
    {
     "data": {
      "text/html": [
       "<div>\n",
       "<style scoped>\n",
       "    .dataframe tbody tr th:only-of-type {\n",
       "        vertical-align: middle;\n",
       "    }\n",
       "\n",
       "    .dataframe tbody tr th {\n",
       "        vertical-align: top;\n",
       "    }\n",
       "\n",
       "    .dataframe thead th {\n",
       "        text-align: right;\n",
       "    }\n",
       "</style>\n",
       "<table border=\"1\" class=\"dataframe\">\n",
       "  <thead>\n",
       "    <tr style=\"text-align: right;\">\n",
       "      <th></th>\n",
       "      <th>CountryLive</th>\n",
       "      <th>spend_per_month</th>\n",
       "    </tr>\n",
       "  </thead>\n",
       "  <tbody>\n",
       "    <tr>\n",
       "      <th>102</th>\n",
       "      <td>United States of America</td>\n",
       "      <td>413.043929</td>\n",
       "    </tr>\n",
       "  </tbody>\n",
       "</table>\n",
       "</div>"
      ],
      "text/plain": [
       "                  CountryLive  spend_per_month\n",
       "102  United States of America       413.043929"
      ]
     },
     "execution_count": 11,
     "metadata": {},
     "output_type": "execute_result"
    }
   ],
   "source": [
    "spend[spend.CountryLive==\"United States of America\"]"
   ]
  },
  {
   "cell_type": "code",
   "execution_count": 12,
   "metadata": {
    "collapsed": false
   },
   "outputs": [
    {
     "data": {
      "text/html": [
       "<div>\n",
       "<style scoped>\n",
       "    .dataframe tbody tr th:only-of-type {\n",
       "        vertical-align: middle;\n",
       "    }\n",
       "\n",
       "    .dataframe tbody tr th {\n",
       "        vertical-align: top;\n",
       "    }\n",
       "\n",
       "    .dataframe thead th {\n",
       "        text-align: right;\n",
       "    }\n",
       "</style>\n",
       "<table border=\"1\" class=\"dataframe\">\n",
       "  <thead>\n",
       "    <tr style=\"text-align: right;\">\n",
       "      <th></th>\n",
       "      <th>CountryLive</th>\n",
       "      <th>spend_per_month</th>\n",
       "    </tr>\n",
       "  </thead>\n",
       "  <tbody>\n",
       "    <tr>\n",
       "      <th>39</th>\n",
       "      <td>India</td>\n",
       "      <td>311.202759</td>\n",
       "    </tr>\n",
       "  </tbody>\n",
       "</table>\n",
       "</div>"
      ],
      "text/plain": [
       "   CountryLive  spend_per_month\n",
       "39       India       311.202759"
      ]
     },
     "execution_count": 12,
     "metadata": {},
     "output_type": "execute_result"
    }
   ],
   "source": [
    "spend[spend.CountryLive==\"India\"]"
   ]
  },
  {
   "cell_type": "code",
   "execution_count": 13,
   "metadata": {
    "collapsed": false
   },
   "outputs": [
    {
     "data": {
      "text/html": [
       "<div>\n",
       "<style scoped>\n",
       "    .dataframe tbody tr th:only-of-type {\n",
       "        vertical-align: middle;\n",
       "    }\n",
       "\n",
       "    .dataframe tbody tr th {\n",
       "        vertical-align: top;\n",
       "    }\n",
       "\n",
       "    .dataframe thead th {\n",
       "        text-align: right;\n",
       "    }\n",
       "</style>\n",
       "<table border=\"1\" class=\"dataframe\">\n",
       "  <thead>\n",
       "    <tr style=\"text-align: right;\">\n",
       "      <th></th>\n",
       "      <th>CountryLive</th>\n",
       "      <th>spend_per_month</th>\n",
       "    </tr>\n",
       "  </thead>\n",
       "  <tbody>\n",
       "    <tr>\n",
       "      <th>101</th>\n",
       "      <td>United Kingdom</td>\n",
       "      <td>92.730727</td>\n",
       "    </tr>\n",
       "  </tbody>\n",
       "</table>\n",
       "</div>"
      ],
      "text/plain": [
       "        CountryLive  spend_per_month\n",
       "101  United Kingdom        92.730727"
      ]
     },
     "execution_count": 13,
     "metadata": {},
     "output_type": "execute_result"
    }
   ],
   "source": [
    "spend[spend.CountryLive==\"United Kingdom\"]"
   ]
  },
  {
   "cell_type": "code",
   "execution_count": 14,
   "metadata": {
    "collapsed": false
   },
   "outputs": [
    {
     "data": {
      "text/html": [
       "<div>\n",
       "<style scoped>\n",
       "    .dataframe tbody tr th:only-of-type {\n",
       "        vertical-align: middle;\n",
       "    }\n",
       "\n",
       "    .dataframe tbody tr th {\n",
       "        vertical-align: top;\n",
       "    }\n",
       "\n",
       "    .dataframe thead th {\n",
       "        text-align: right;\n",
       "    }\n",
       "</style>\n",
       "<table border=\"1\" class=\"dataframe\">\n",
       "  <thead>\n",
       "    <tr style=\"text-align: right;\">\n",
       "      <th></th>\n",
       "      <th>CountryLive</th>\n",
       "      <th>spend_per_month</th>\n",
       "    </tr>\n",
       "  </thead>\n",
       "  <tbody>\n",
       "    <tr>\n",
       "      <th>14</th>\n",
       "      <td>Canada</td>\n",
       "      <td>238.970444</td>\n",
       "    </tr>\n",
       "  </tbody>\n",
       "</table>\n",
       "</div>"
      ],
      "text/plain": [
       "   CountryLive  spend_per_month\n",
       "14      Canada       238.970444"
      ]
     },
     "execution_count": 14,
     "metadata": {},
     "output_type": "execute_result"
    }
   ],
   "source": [
    "spend[spend.CountryLive==\"Canada\"]"
   ]
  },
  {
   "cell_type": "markdown",
   "metadata": {
    "collapsed": true
   },
   "source": [
    "Considerting GPD for the listed countries, it appears curious that people in the UK would look to spend less money than people in India on the education. Perhaps looking for outliers may provide more information."
   ]
  },
  {
   "cell_type": "code",
   "execution_count": 28,
   "metadata": {
    "collapsed": false
   },
   "outputs": [
    {
     "data": {
      "image/png": "[encoded data removed]",
      "text/plain": [
       "<matplotlib.figure.Figure at 0x7fcded1dc198>"
      ]
     },
     "metadata": {},
     "output_type": "display_data"
    }
   ],
   "source": [
    "# df.CountryLive\n",
    "four_countries=df[df.CountryLive.isin([\"United States of America\",\"India\",\"United Kingdom\",\"Canada\"])]\n",
    "four_countries.boxplot(by=\"CountryLive\", column=\"spend_per_month\")\n",
    "plt.show()"
   ]
  },
  {
   "cell_type": "code",
   "execution_count": 57,
   "metadata": {
    "collapsed": true
   },
   "outputs": [],
   "source": [
    "#remove outliers"
   ]
  },
  {
   "cell_type": "code",
   "execution_count": 81,
   "metadata": {
    "collapsed": false
   },
   "outputs": [],
   "source": [
    "def mean_per_country(country):\n",
    "    '''Removes outliers and yields mean'''\n",
    "    q75, q25 = np.percentile(df[df.CountryLive==country].spend_per_month, [75 ,25])\n",
    "    c=df[df.CountryLive==country]\n",
    "    c=c[c.spend_per_month>=(1.5*59)]\n",
    "#     c=c[c.spend_per_month<(1.5*q75)]\n",
    "    pop=len(c)\n",
    "    mean=c.spend_per_month.mean()\n",
    "    print(\"Mean spend per month (only above $59 price per month in {} is \".format(country)+str(round(mean,2))+\n",
    "          \" and the potential number of the customers is at least {}, \".format(pop)+\n",
    "         \"yielding total market value of ${}.\\n\".format(pop*59))\n"
   ]
  },
  {
   "cell_type": "code",
   "execution_count": 82,
   "metadata": {
    "collapsed": false
   },
   "outputs": [
    {
     "name": "stdout",
     "output_type": "stream",
     "text": [
      "Mean spend per month (only above $59 price per month in United States of America is 1196.18 and the potential number of the customers is at least 537, yielding total market value of $31683.\n",
      "\n",
      "Mean spend per month (only above $59 price per month in India is 924.71 and the potential number of the customers is at least 65, yielding total market value of $3835.\n",
      "\n",
      "Mean spend per month (only above $59 price per month in United Kingdom is 351.18 and the potential number of the customers is at least 29, yielding total market value of $1711.\n",
      "\n",
      "Mean spend per month (only above $59 price per month in Canada is 794.15 and the potential number of the customers is at least 32, yielding total market value of $1888.\n",
      "\n"
     ]
    }
   ],
   "source": [
    "countries=[\"United States of America\",\"India\",\"United Kingdom\",\"Canada\"]\n",
    "for countr in countries:\n",
    "    mean_per_country(countr)"
   ]
  },
  {
   "cell_type": "markdown",
   "metadata": {},
   "source": [
    "Based on reexamined results the two best countries to advertise in are the United States and India."
   ]
  }
 ],
 "metadata": {
  "kernelspec": {
   "display_name": "Python 3",
   "language": "python",
   "name": "python3"
  },
  "language_info": {
   "codemirror_mode": {
    "name": "ipython",
    "version": 3
   },
   "file_extension": ".py",
   "mimetype": "text/x-python",
   "name": "python",
   "nbconvert_exporter": "python",
   "pygments_lexer": "ipython3",
   "version": "3.4.3"
  }
 },
 "nbformat": 4,
 "nbformat_minor": 2
}
